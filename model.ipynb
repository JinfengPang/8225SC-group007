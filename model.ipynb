{
 "cells": [
  {
   "cell_type": "markdown",
   "metadata": {},
   "source": [
    "### Merge Data (Only Necessary When EDA changed)"
   ]
  },
  {
   "cell_type": "code",
   "execution_count": 20,
   "metadata": {},
   "outputs": [],
   "source": [
    "import pandas as pd\n",
    "import numpy as np"
   ]
  },
  {
   "cell_type": "code",
   "execution_count": 186,
   "metadata": {},
   "outputs": [],
   "source": [
    "max_num = 6\n",
    "df_list = []\n",
    "for data_path in [f\"./preprocessed/train_{i}.csv\" for i in range(1, max_num + 1)]:\n",
    "    df_list.append(pd.read_csv(data_path))\n",
    "\n",
    "df = pd.DataFrame({\"index\": [i for i in range(0, 60000)]})\n",
    "for _df in df_list:\n",
    "    df = df.merge(_df, on='index')"
   ]
  },
  {
   "cell_type": "code",
   "execution_count": 187,
   "metadata": {},
   "outputs": [],
   "source": [
    "df = df.drop(columns=['index', 'flat_model_y']).rename(columns={\"flat_model_x\": \"flat_model\"})"
   ]
  },
  {
   "cell_type": "code",
   "execution_count": 188,
   "metadata": {},
   "outputs": [],
   "source": [
    "df.to_csv(TRAIN_DATA_PATH, index=False)"
   ]
  },
  {
   "cell_type": "code",
   "execution_count": 189,
   "metadata": {},
   "outputs": [],
   "source": [
    "test_df_list = []\n",
    "for data_path in [f\"./preprocessed/test_{i}.csv\" for i in range(1, max_num + 1)]:\n",
    "    test_df_list.append(pd.read_csv(data_path))\n",
    "\n",
    "test_df = pd.DataFrame({\"index\": [i for i in range(0, 60000)]})\n",
    "for _df in test_df_list:\n",
    "    test_df = test_df.merge(_df, on='index')\n",
    "\n",
    "test_df = test_df.drop(columns=['index', 'flat_model_y']).rename(columns={\"flat_model_x\": \"flat_model\"})"
   ]
  },
  {
   "cell_type": "code",
   "execution_count": 190,
   "metadata": {},
   "outputs": [],
   "source": [
    "test_df.to_csv(TEST_DATA_PATH, index=False)"
   ]
  },
  {
   "cell_type": "markdown",
   "metadata": {},
   "source": [
    "### Settings"
   ]
  },
  {
   "cell_type": "code",
   "execution_count": 191,
   "metadata": {},
   "outputs": [],
   "source": [
    "TRAIN_DATA_PATH = \"./preprocessed/train.csv\"\n",
    "TEST_DATA_PATH = \"./preprocessed/test.csv\"\n",
    "Y_LABEL_COL_NAME = \"monthly_rent\"\n",
    "RAW_DATA_PATH = \"./Dataset/train.csv\""
   ]
  },
  {
   "cell_type": "markdown",
   "metadata": {},
   "source": [
    "## Model\n",
    "1. data preparation\n",
    "2. model selection\n",
    "3. test"
   ]
  },
  {
   "cell_type": "code",
   "execution_count": 192,
   "metadata": {},
   "outputs": [],
   "source": [
    "import pandas as pd\n",
    "import numpy as np\n",
    "\n",
    "def get_X_y_df(data, y_column_name=Y_LABEL_COL_NAME):\n",
    "    feature_names = data.columns.to_list()\n",
    "    feature_names.remove(y_column_name)\n",
    "    X = data.loc[:, feature_names]\n",
    "    y = data.loc[:, [y_column_name]]\n",
    "    return X, y\n"
   ]
  },
  {
   "cell_type": "markdown",
   "metadata": {},
   "source": [
    "### Get Training Data"
   ]
  },
  {
   "cell_type": "code",
   "execution_count": 193,
   "metadata": {},
   "outputs": [],
   "source": [
    "data_df = pd.read_csv(TRAIN_DATA_PATH)\n",
    "\n",
    "_X_df, _y_df = get_X_y_df(data_df)"
   ]
  },
  {
   "cell_type": "code",
   "execution_count": 194,
   "metadata": {},
   "outputs": [],
   "source": [
    "_X_df = _X_df.drop(columns=['planned_mrt_opening_year'])"
   ]
  },
  {
   "cell_type": "markdown",
   "metadata": {},
   "source": [
    "### Feature Selection"
   ]
  },
  {
   "cell_type": "code",
   "execution_count": 195,
   "metadata": {},
   "outputs": [
    {
     "data": {
      "text/html": [
       "<div>\n",
       "<style scoped>\n",
       "    .dataframe tbody tr th:only-of-type {\n",
       "        vertical-align: middle;\n",
       "    }\n",
       "\n",
       "    .dataframe tbody tr th {\n",
       "        vertical-align: top;\n",
       "    }\n",
       "\n",
       "    .dataframe thead th {\n",
       "        text-align: right;\n",
       "    }\n",
       "</style>\n",
       "<table border=\"1\" class=\"dataframe\">\n",
       "  <thead>\n",
       "    <tr style=\"text-align: right;\">\n",
       "      <th></th>\n",
       "      <th>rent_approval_date</th>\n",
       "      <th>rent_approval_year</th>\n",
       "      <th>rent_approval_month</th>\n",
       "      <th>town</th>\n",
       "      <th>street_name</th>\n",
       "      <th>block</th>\n",
       "      <th>flat_type</th>\n",
       "      <th>flat_model</th>\n",
       "      <th>floor_area_sqm</th>\n",
       "      <th>lease_commence_date</th>\n",
       "      <th>latitude</th>\n",
       "      <th>longitude</th>\n",
       "      <th>subzone</th>\n",
       "      <th>region</th>\n",
       "      <th>num_school_500m</th>\n",
       "      <th>nearest_school_dist</th>\n",
       "      <th>num_shopping_mall_500m</th>\n",
       "      <th>nearest_shopping_mall_dist</th>\n",
       "      <th>nearest_mrt_distance</th>\n",
       "      <th>planned_mrt_distance</th>\n",
       "    </tr>\n",
       "  </thead>\n",
       "  <tbody>\n",
       "    <tr>\n",
       "      <th>0</th>\n",
       "      <td>8</td>\n",
       "      <td>2021</td>\n",
       "      <td>9</td>\n",
       "      <td>2595.146199</td>\n",
       "      <td>2550</td>\n",
       "      <td>257</td>\n",
       "      <td>3</td>\n",
       "      <td>2369.965462</td>\n",
       "      <td>67.0</td>\n",
       "      <td>1983</td>\n",
       "      <td>1.344518</td>\n",
       "      <td>103.738630</td>\n",
       "      <td>149</td>\n",
       "      <td>4</td>\n",
       "      <td>1</td>\n",
       "      <td>334.85</td>\n",
       "      <td>0</td>\n",
       "      <td>1202.67</td>\n",
       "      <td>0.006289</td>\n",
       "      <td>0.006071</td>\n",
       "    </tr>\n",
       "    <tr>\n",
       "      <th>1</th>\n",
       "      <td>16</td>\n",
       "      <td>2022</td>\n",
       "      <td>5</td>\n",
       "      <td>2438.227223</td>\n",
       "      <td>2347</td>\n",
       "      <td>119</td>\n",
       "      <td>4</td>\n",
       "      <td>2369.965462</td>\n",
       "      <td>92.0</td>\n",
       "      <td>1978</td>\n",
       "      <td>1.330186</td>\n",
       "      <td>103.938717</td>\n",
       "      <td>8</td>\n",
       "      <td>1</td>\n",
       "      <td>0</td>\n",
       "      <td>607.72</td>\n",
       "      <td>0</td>\n",
       "      <td>1114.34</td>\n",
       "      <td>0.008087</td>\n",
       "      <td>0.008135</td>\n",
       "    </tr>\n",
       "    <tr>\n",
       "      <th>2</th>\n",
       "      <td>21</td>\n",
       "      <td>2022</td>\n",
       "      <td>10</td>\n",
       "      <td>2516.680515</td>\n",
       "      <td>2498</td>\n",
       "      <td>157</td>\n",
       "      <td>3</td>\n",
       "      <td>2636.211052</td>\n",
       "      <td>67.0</td>\n",
       "      <td>1971</td>\n",
       "      <td>1.332242</td>\n",
       "      <td>103.845643</td>\n",
       "      <td>128</td>\n",
       "      <td>0</td>\n",
       "      <td>1</td>\n",
       "      <td>425.76</td>\n",
       "      <td>1</td>\n",
       "      <td>468.30</td>\n",
       "      <td>0.001966</td>\n",
       "      <td>0.010649</td>\n",
       "    </tr>\n",
       "    <tr>\n",
       "      <th>3</th>\n",
       "      <td>7</td>\n",
       "      <td>2021</td>\n",
       "      <td>8</td>\n",
       "      <td>2686.857477</td>\n",
       "      <td>2682</td>\n",
       "      <td>250</td>\n",
       "      <td>6</td>\n",
       "      <td>2878.725962</td>\n",
       "      <td>149.0</td>\n",
       "      <td>1993</td>\n",
       "      <td>1.370239</td>\n",
       "      <td>103.962894</td>\n",
       "      <td>91</td>\n",
       "      <td>1</td>\n",
       "      <td>0</td>\n",
       "      <td>564.97</td>\n",
       "      <td>1</td>\n",
       "      <td>402.36</td>\n",
       "      <td>0.013908</td>\n",
       "      <td>0.004643</td>\n",
       "    </tr>\n",
       "    <tr>\n",
       "      <th>4</th>\n",
       "      <td>22</td>\n",
       "      <td>2022</td>\n",
       "      <td>11</td>\n",
       "      <td>2665.537634</td>\n",
       "      <td>2396</td>\n",
       "      <td>34</td>\n",
       "      <td>3</td>\n",
       "      <td>2636.211052</td>\n",
       "      <td>68.0</td>\n",
       "      <td>1972</td>\n",
       "      <td>1.320502</td>\n",
       "      <td>103.863341</td>\n",
       "      <td>12</td>\n",
       "      <td>0</td>\n",
       "      <td>1</td>\n",
       "      <td>271.72</td>\n",
       "      <td>0</td>\n",
       "      <td>1073.35</td>\n",
       "      <td>0.001690</td>\n",
       "      <td>0.025345</td>\n",
       "    </tr>\n",
       "  </tbody>\n",
       "</table>\n",
       "</div>"
      ],
      "text/plain": [
       "   rent_approval_date  rent_approval_year  rent_approval_month         town  \\\n",
       "0                   8                2021                    9  2595.146199   \n",
       "1                  16                2022                    5  2438.227223   \n",
       "2                  21                2022                   10  2516.680515   \n",
       "3                   7                2021                    8  2686.857477   \n",
       "4                  22                2022                   11  2665.537634   \n",
       "\n",
       "   street_name  block  flat_type   flat_model  floor_area_sqm  \\\n",
       "0         2550    257          3  2369.965462            67.0   \n",
       "1         2347    119          4  2369.965462            92.0   \n",
       "2         2498    157          3  2636.211052            67.0   \n",
       "3         2682    250          6  2878.725962           149.0   \n",
       "4         2396     34          3  2636.211052            68.0   \n",
       "\n",
       "   lease_commence_date  latitude   longitude  subzone  region  \\\n",
       "0                 1983  1.344518  103.738630      149       4   \n",
       "1                 1978  1.330186  103.938717        8       1   \n",
       "2                 1971  1.332242  103.845643      128       0   \n",
       "3                 1993  1.370239  103.962894       91       1   \n",
       "4                 1972  1.320502  103.863341       12       0   \n",
       "\n",
       "   num_school_500m  nearest_school_dist  num_shopping_mall_500m  \\\n",
       "0                1               334.85                       0   \n",
       "1                0               607.72                       0   \n",
       "2                1               425.76                       1   \n",
       "3                0               564.97                       1   \n",
       "4                1               271.72                       0   \n",
       "\n",
       "   nearest_shopping_mall_dist  nearest_mrt_distance  planned_mrt_distance  \n",
       "0                     1202.67              0.006289              0.006071  \n",
       "1                     1114.34              0.008087              0.008135  \n",
       "2                      468.30              0.001966              0.010649  \n",
       "3                      402.36              0.013908              0.004643  \n",
       "4                     1073.35              0.001690              0.025345  "
      ]
     },
     "execution_count": 195,
     "metadata": {},
     "output_type": "execute_result"
    }
   ],
   "source": [
    "_X_df.head()"
   ]
  },
  {
   "cell_type": "code",
   "execution_count": 196,
   "metadata": {},
   "outputs": [],
   "source": [
    "# X_df = _X_df[[\"town\", \"flat_type\", \"lease_commence_date\", \"flat_model\", \"floor_area_sqm\", \"subzone\", \"region\", \"block\", \"rent_approval_date\"]]\n",
    "# X_df = _X_df.drop(columns=[\"rent_approval_year\", \"rent_approval_month\"])\n",
    "X_df = _X_df.drop(columns=[\n",
    "    # 'planned_mrt_distance', \n",
    "    # 'nearest_mrt_distance', \n",
    "    # 'num_shopping_mall_500m', \n",
    "    # 'nearest_shopping_mall_dist'\n",
    "])\n",
    "y_df = _y_df"
   ]
  },
  {
   "cell_type": "code",
   "execution_count": 197,
   "metadata": {},
   "outputs": [
    {
     "name": "stdout",
     "output_type": "stream",
     "text": [
      "<class 'pandas.core.frame.DataFrame'>\n",
      "RangeIndex: 60000 entries, 0 to 59999\n",
      "Data columns (total 20 columns):\n",
      " #   Column                      Non-Null Count  Dtype  \n",
      "---  ------                      --------------  -----  \n",
      " 0   rent_approval_date          60000 non-null  int64  \n",
      " 1   rent_approval_year          60000 non-null  int64  \n",
      " 2   rent_approval_month         60000 non-null  int64  \n",
      " 3   town                        60000 non-null  float64\n",
      " 4   street_name                 60000 non-null  int64  \n",
      " 5   block                       60000 non-null  int64  \n",
      " 6   flat_type                   60000 non-null  int64  \n",
      " 7   flat_model                  60000 non-null  float64\n",
      " 8   floor_area_sqm              60000 non-null  float64\n",
      " 9   lease_commence_date         60000 non-null  int64  \n",
      " 10  latitude                    60000 non-null  float64\n",
      " 11  longitude                   60000 non-null  float64\n",
      " 12  subzone                     60000 non-null  int64  \n",
      " 13  region                      60000 non-null  int64  \n",
      " 14  num_school_500m             60000 non-null  int64  \n",
      " 15  nearest_school_dist         60000 non-null  float64\n",
      " 16  num_shopping_mall_500m      60000 non-null  int64  \n",
      " 17  nearest_shopping_mall_dist  60000 non-null  float64\n",
      " 18  nearest_mrt_distance        60000 non-null  float64\n",
      " 19  planned_mrt_distance        60000 non-null  float64\n",
      "dtypes: float64(9), int64(11)\n",
      "memory usage: 9.2 MB\n"
     ]
    }
   ],
   "source": [
    "X_df.info()"
   ]
  },
  {
   "cell_type": "markdown",
   "metadata": {},
   "source": [
    "### Trainer、Model Selection、Cross Validation"
   ]
  },
  {
   "cell_type": "code",
   "execution_count": 198,
   "metadata": {},
   "outputs": [],
   "source": [
    "from sklearn.model_selection import cross_val_score, KFold\n",
    "from sklearn.metrics import mean_squared_error"
   ]
  },
  {
   "cell_type": "code",
   "execution_count": 199,
   "metadata": {},
   "outputs": [],
   "source": [
    "class Trainer:\n",
    "    def __init__(self, model, X=X_df.values, y=y_df.values, k_folds=5):\n",
    "        \"\"\"\n",
    "        X : array-like of shape (n_samples, n_features)\n",
    "        y : array-like of shape (n_samples,) or (n_samples, n_outputs)\n",
    "        \"\"\"\n",
    "        self.X_train = X\n",
    "        self.y_train = y\n",
    "        self.k_fold = k_folds\n",
    "        self.model = model\n",
    "        self.trained = None\n",
    "\n",
    "    def cross_validate(self, metric=\"rmse\", k_fold=None):\n",
    "        \"\"\"Root Mean Square Error of Cross Validation\"\"\"\n",
    "        if metric == \"rmse\":\n",
    "            kf = KFold(self.k_fold if k_fold is None else k_fold, \n",
    "                       random_state=42, \n",
    "                       shuffle=True).get_n_splits(self.X_train)\n",
    "            # TODO other metrics?\n",
    "            rmse = np.sqrt(-cross_val_score(self.model, self.X_train, self.y_train, scoring=\"neg_mean_squared_error\", cv = kf))\n",
    "            return (rmse)\n",
    "        else:\n",
    "            raise NotImplementedError\n",
    "\n",
    "    def train(self):\n",
    "        self.trained = self.model.fit(self.X_train, self.y_train)\n",
    "        return self.trained\n",
    "    \n",
    "    def predict(self, X_test):\n",
    "        if self.trained is None:\n",
    "            self.model.fit(self.X_train, self.y_train)\n",
    "        return self.model.predict(X_test)\n",
    "    \n",
    "    def rmse_on_train(self):\n",
    "        y_pred = self.predict(self.X_train)\n",
    "        return np.sqrt(mean_squared_error(y_pred, self.y_train))"
   ]
  },
  {
   "cell_type": "markdown",
   "metadata": {},
   "source": [
    "### Models"
   ]
  },
  {
   "cell_type": "code",
   "execution_count": 200,
   "metadata": {},
   "outputs": [],
   "source": [
    "from sklearn.ensemble import RandomForestRegressor, GradientBoostingRegressor\n",
    "from sklearn.linear_model import Lasso\n",
    "from sklearn.kernel_ridge import KernelRidge\n",
    "from sklearn.pipeline import make_pipeline\n",
    "from sklearn.preprocessing import RobustScaler\n",
    "from sklearn.svm import SVR\n",
    "from xgboost import XGBRegressor"
   ]
  },
  {
   "cell_type": "code",
   "execution_count": 201,
   "metadata": {},
   "outputs": [],
   "source": [
    "def model_selection(trainer: Trainer, trainer_name=\"\", k_fold=None, metric=\"rmse\"):\n",
    "    cv = trainer.cross_validate(k_fold=k_fold, metric=metric)\n",
    "    mean_cv = cv.mean()\n",
    "    std_cv = cv.std()\n",
    "    print(f\"trainer: {trainer_name} with {metric} | mean: {round(mean_cv, 5)}, std: {round(std_cv, 5)} | all: {cv}\")\n",
    "\n",
    "# TODO: parameter grid search"
   ]
  },
  {
   "cell_type": "code",
   "execution_count": 202,
   "metadata": {},
   "outputs": [],
   "source": [
    "# XGBoost\n",
    "xgboost_model = XGBRegressor(learning_rate=0.05,\n",
    "                       n_estimators=300,\n",
    "                       max_depth=4,\n",
    "                       min_child_weight=0.5,\n",
    "                       gamma=0.6,\n",
    "                       subsample=0.7,\n",
    "                       colsample_bytree=0.7,\n",
    "                       objective='reg:squarederror',\n",
    "                       nthread=-1,\n",
    "                       scale_pos_weight=1,\n",
    "                       seed=27,\n",
    "                       reg_alpha=0.00006,\n",
    "                       random_state=42)\n",
    "\n",
    "xgboost = Trainer(xgboost_model, X=X_df.values)"
   ]
  },
  {
   "cell_type": "code",
   "execution_count": 203,
   "metadata": {},
   "outputs": [
    {
     "data": {
      "text/html": [
       "<div>\n",
       "<style scoped>\n",
       "    .dataframe tbody tr th:only-of-type {\n",
       "        vertical-align: middle;\n",
       "    }\n",
       "\n",
       "    .dataframe tbody tr th {\n",
       "        vertical-align: top;\n",
       "    }\n",
       "\n",
       "    .dataframe thead th {\n",
       "        text-align: right;\n",
       "    }\n",
       "</style>\n",
       "<table border=\"1\" class=\"dataframe\">\n",
       "  <thead>\n",
       "    <tr style=\"text-align: right;\">\n",
       "      <th></th>\n",
       "      <th>rent_approval_date</th>\n",
       "      <th>rent_approval_year</th>\n",
       "      <th>rent_approval_month</th>\n",
       "      <th>town</th>\n",
       "      <th>street_name</th>\n",
       "      <th>block</th>\n",
       "      <th>flat_type</th>\n",
       "      <th>flat_model</th>\n",
       "      <th>floor_area_sqm</th>\n",
       "      <th>lease_commence_date</th>\n",
       "      <th>latitude</th>\n",
       "      <th>longitude</th>\n",
       "      <th>subzone</th>\n",
       "      <th>region</th>\n",
       "      <th>num_school_500m</th>\n",
       "      <th>nearest_school_dist</th>\n",
       "      <th>num_shopping_mall_500m</th>\n",
       "      <th>nearest_shopping_mall_dist</th>\n",
       "      <th>nearest_mrt_distance</th>\n",
       "      <th>planned_mrt_distance</th>\n",
       "    </tr>\n",
       "  </thead>\n",
       "  <tbody>\n",
       "    <tr>\n",
       "      <th>0</th>\n",
       "      <td>8</td>\n",
       "      <td>2021</td>\n",
       "      <td>9</td>\n",
       "      <td>2595.146199</td>\n",
       "      <td>2550</td>\n",
       "      <td>257</td>\n",
       "      <td>3</td>\n",
       "      <td>2369.965462</td>\n",
       "      <td>67.0</td>\n",
       "      <td>1983</td>\n",
       "      <td>1.344518</td>\n",
       "      <td>103.738630</td>\n",
       "      <td>149</td>\n",
       "      <td>4</td>\n",
       "      <td>1</td>\n",
       "      <td>334.85</td>\n",
       "      <td>0</td>\n",
       "      <td>1202.67</td>\n",
       "      <td>0.006289</td>\n",
       "      <td>0.006071</td>\n",
       "    </tr>\n",
       "    <tr>\n",
       "      <th>1</th>\n",
       "      <td>16</td>\n",
       "      <td>2022</td>\n",
       "      <td>5</td>\n",
       "      <td>2438.227223</td>\n",
       "      <td>2347</td>\n",
       "      <td>119</td>\n",
       "      <td>4</td>\n",
       "      <td>2369.965462</td>\n",
       "      <td>92.0</td>\n",
       "      <td>1978</td>\n",
       "      <td>1.330186</td>\n",
       "      <td>103.938717</td>\n",
       "      <td>8</td>\n",
       "      <td>1</td>\n",
       "      <td>0</td>\n",
       "      <td>607.72</td>\n",
       "      <td>0</td>\n",
       "      <td>1114.34</td>\n",
       "      <td>0.008087</td>\n",
       "      <td>0.008135</td>\n",
       "    </tr>\n",
       "    <tr>\n",
       "      <th>2</th>\n",
       "      <td>21</td>\n",
       "      <td>2022</td>\n",
       "      <td>10</td>\n",
       "      <td>2516.680515</td>\n",
       "      <td>2498</td>\n",
       "      <td>157</td>\n",
       "      <td>3</td>\n",
       "      <td>2636.211052</td>\n",
       "      <td>67.0</td>\n",
       "      <td>1971</td>\n",
       "      <td>1.332242</td>\n",
       "      <td>103.845643</td>\n",
       "      <td>128</td>\n",
       "      <td>0</td>\n",
       "      <td>1</td>\n",
       "      <td>425.76</td>\n",
       "      <td>1</td>\n",
       "      <td>468.30</td>\n",
       "      <td>0.001966</td>\n",
       "      <td>0.010649</td>\n",
       "    </tr>\n",
       "    <tr>\n",
       "      <th>3</th>\n",
       "      <td>7</td>\n",
       "      <td>2021</td>\n",
       "      <td>8</td>\n",
       "      <td>2686.857477</td>\n",
       "      <td>2682</td>\n",
       "      <td>250</td>\n",
       "      <td>6</td>\n",
       "      <td>2878.725962</td>\n",
       "      <td>149.0</td>\n",
       "      <td>1993</td>\n",
       "      <td>1.370239</td>\n",
       "      <td>103.962894</td>\n",
       "      <td>91</td>\n",
       "      <td>1</td>\n",
       "      <td>0</td>\n",
       "      <td>564.97</td>\n",
       "      <td>1</td>\n",
       "      <td>402.36</td>\n",
       "      <td>0.013908</td>\n",
       "      <td>0.004643</td>\n",
       "    </tr>\n",
       "    <tr>\n",
       "      <th>4</th>\n",
       "      <td>22</td>\n",
       "      <td>2022</td>\n",
       "      <td>11</td>\n",
       "      <td>2665.537634</td>\n",
       "      <td>2396</td>\n",
       "      <td>34</td>\n",
       "      <td>3</td>\n",
       "      <td>2636.211052</td>\n",
       "      <td>68.0</td>\n",
       "      <td>1972</td>\n",
       "      <td>1.320502</td>\n",
       "      <td>103.863341</td>\n",
       "      <td>12</td>\n",
       "      <td>0</td>\n",
       "      <td>1</td>\n",
       "      <td>271.72</td>\n",
       "      <td>0</td>\n",
       "      <td>1073.35</td>\n",
       "      <td>0.001690</td>\n",
       "      <td>0.025345</td>\n",
       "    </tr>\n",
       "    <tr>\n",
       "      <th>...</th>\n",
       "      <td>...</td>\n",
       "      <td>...</td>\n",
       "      <td>...</td>\n",
       "      <td>...</td>\n",
       "      <td>...</td>\n",
       "      <td>...</td>\n",
       "      <td>...</td>\n",
       "      <td>...</td>\n",
       "      <td>...</td>\n",
       "      <td>...</td>\n",
       "      <td>...</td>\n",
       "      <td>...</td>\n",
       "      <td>...</td>\n",
       "      <td>...</td>\n",
       "      <td>...</td>\n",
       "      <td>...</td>\n",
       "      <td>...</td>\n",
       "      <td>...</td>\n",
       "      <td>...</td>\n",
       "      <td>...</td>\n",
       "    </tr>\n",
       "    <tr>\n",
       "      <th>59995</th>\n",
       "      <td>8</td>\n",
       "      <td>2021</td>\n",
       "      <td>9</td>\n",
       "      <td>2416.700057</td>\n",
       "      <td>2417</td>\n",
       "      <td>441</td>\n",
       "      <td>3</td>\n",
       "      <td>2369.965462</td>\n",
       "      <td>67.0</td>\n",
       "      <td>1979</td>\n",
       "      <td>1.366050</td>\n",
       "      <td>103.854168</td>\n",
       "      <td>31</td>\n",
       "      <td>3</td>\n",
       "      <td>2</td>\n",
       "      <td>360.65</td>\n",
       "      <td>0</td>\n",
       "      <td>949.72</td>\n",
       "      <td>0.006027</td>\n",
       "      <td>0.009471</td>\n",
       "    </tr>\n",
       "    <tr>\n",
       "      <th>59996</th>\n",
       "      <td>27</td>\n",
       "      <td>2023</td>\n",
       "      <td>4</td>\n",
       "      <td>2904.113924</td>\n",
       "      <td>2715</td>\n",
       "      <td>95</td>\n",
       "      <td>4</td>\n",
       "      <td>2612.031305</td>\n",
       "      <td>83.0</td>\n",
       "      <td>2019</td>\n",
       "      <td>1.286493</td>\n",
       "      <td>103.821434</td>\n",
       "      <td>52</td>\n",
       "      <td>0</td>\n",
       "      <td>0</td>\n",
       "      <td>562.69</td>\n",
       "      <td>0</td>\n",
       "      <td>740.67</td>\n",
       "      <td>0.005573</td>\n",
       "      <td>0.018980</td>\n",
       "    </tr>\n",
       "    <tr>\n",
       "      <th>59997</th>\n",
       "      <td>17</td>\n",
       "      <td>2022</td>\n",
       "      <td>6</td>\n",
       "      <td>2638.489123</td>\n",
       "      <td>2602</td>\n",
       "      <td>862</td>\n",
       "      <td>5</td>\n",
       "      <td>2636.211052</td>\n",
       "      <td>122.0</td>\n",
       "      <td>1988</td>\n",
       "      <td>1.355064</td>\n",
       "      <td>103.936507</td>\n",
       "      <td>118</td>\n",
       "      <td>1</td>\n",
       "      <td>1</td>\n",
       "      <td>320.03</td>\n",
       "      <td>2</td>\n",
       "      <td>439.80</td>\n",
       "      <td>0.006503</td>\n",
       "      <td>0.014191</td>\n",
       "    </tr>\n",
       "    <tr>\n",
       "      <th>59998</th>\n",
       "      <td>24</td>\n",
       "      <td>2023</td>\n",
       "      <td>1</td>\n",
       "      <td>2438.227223</td>\n",
       "      <td>2487</td>\n",
       "      <td>67</td>\n",
       "      <td>5</td>\n",
       "      <td>2444.223986</td>\n",
       "      <td>123.0</td>\n",
       "      <td>1977</td>\n",
       "      <td>1.318974</td>\n",
       "      <td>103.944076</td>\n",
       "      <td>10</td>\n",
       "      <td>1</td>\n",
       "      <td>1</td>\n",
       "      <td>219.55</td>\n",
       "      <td>0</td>\n",
       "      <td>1775.20</td>\n",
       "      <td>0.008306</td>\n",
       "      <td>0.004277</td>\n",
       "    </tr>\n",
       "    <tr>\n",
       "      <th>59999</th>\n",
       "      <td>25</td>\n",
       "      <td>2023</td>\n",
       "      <td>2</td>\n",
       "      <td>2416.700057</td>\n",
       "      <td>2417</td>\n",
       "      <td>445</td>\n",
       "      <td>3</td>\n",
       "      <td>2369.965462</td>\n",
       "      <td>67.0</td>\n",
       "      <td>1979</td>\n",
       "      <td>1.366980</td>\n",
       "      <td>103.855718</td>\n",
       "      <td>31</td>\n",
       "      <td>3</td>\n",
       "      <td>0</td>\n",
       "      <td>551.42</td>\n",
       "      <td>0</td>\n",
       "      <td>1026.13</td>\n",
       "      <td>0.006831</td>\n",
       "      <td>0.008158</td>\n",
       "    </tr>\n",
       "  </tbody>\n",
       "</table>\n",
       "<p>60000 rows × 20 columns</p>\n",
       "</div>"
      ],
      "text/plain": [
       "       rent_approval_date  rent_approval_year  rent_approval_month  \\\n",
       "0                       8                2021                    9   \n",
       "1                      16                2022                    5   \n",
       "2                      21                2022                   10   \n",
       "3                       7                2021                    8   \n",
       "4                      22                2022                   11   \n",
       "...                   ...                 ...                  ...   \n",
       "59995                   8                2021                    9   \n",
       "59996                  27                2023                    4   \n",
       "59997                  17                2022                    6   \n",
       "59998                  24                2023                    1   \n",
       "59999                  25                2023                    2   \n",
       "\n",
       "              town  street_name  block  flat_type   flat_model  \\\n",
       "0      2595.146199         2550    257          3  2369.965462   \n",
       "1      2438.227223         2347    119          4  2369.965462   \n",
       "2      2516.680515         2498    157          3  2636.211052   \n",
       "3      2686.857477         2682    250          6  2878.725962   \n",
       "4      2665.537634         2396     34          3  2636.211052   \n",
       "...            ...          ...    ...        ...          ...   \n",
       "59995  2416.700057         2417    441          3  2369.965462   \n",
       "59996  2904.113924         2715     95          4  2612.031305   \n",
       "59997  2638.489123         2602    862          5  2636.211052   \n",
       "59998  2438.227223         2487     67          5  2444.223986   \n",
       "59999  2416.700057         2417    445          3  2369.965462   \n",
       "\n",
       "       floor_area_sqm  lease_commence_date  latitude   longitude  subzone  \\\n",
       "0                67.0                 1983  1.344518  103.738630      149   \n",
       "1                92.0                 1978  1.330186  103.938717        8   \n",
       "2                67.0                 1971  1.332242  103.845643      128   \n",
       "3               149.0                 1993  1.370239  103.962894       91   \n",
       "4                68.0                 1972  1.320502  103.863341       12   \n",
       "...               ...                  ...       ...         ...      ...   \n",
       "59995            67.0                 1979  1.366050  103.854168       31   \n",
       "59996            83.0                 2019  1.286493  103.821434       52   \n",
       "59997           122.0                 1988  1.355064  103.936507      118   \n",
       "59998           123.0                 1977  1.318974  103.944076       10   \n",
       "59999            67.0                 1979  1.366980  103.855718       31   \n",
       "\n",
       "       region  num_school_500m  nearest_school_dist  num_shopping_mall_500m  \\\n",
       "0           4                1               334.85                       0   \n",
       "1           1                0               607.72                       0   \n",
       "2           0                1               425.76                       1   \n",
       "3           1                0               564.97                       1   \n",
       "4           0                1               271.72                       0   \n",
       "...       ...              ...                  ...                     ...   \n",
       "59995       3                2               360.65                       0   \n",
       "59996       0                0               562.69                       0   \n",
       "59997       1                1               320.03                       2   \n",
       "59998       1                1               219.55                       0   \n",
       "59999       3                0               551.42                       0   \n",
       "\n",
       "       nearest_shopping_mall_dist  nearest_mrt_distance  planned_mrt_distance  \n",
       "0                         1202.67              0.006289              0.006071  \n",
       "1                         1114.34              0.008087              0.008135  \n",
       "2                          468.30              0.001966              0.010649  \n",
       "3                          402.36              0.013908              0.004643  \n",
       "4                         1073.35              0.001690              0.025345  \n",
       "...                           ...                   ...                   ...  \n",
       "59995                      949.72              0.006027              0.009471  \n",
       "59996                      740.67              0.005573              0.018980  \n",
       "59997                      439.80              0.006503              0.014191  \n",
       "59998                     1775.20              0.008306              0.004277  \n",
       "59999                     1026.13              0.006831              0.008158  \n",
       "\n",
       "[60000 rows x 20 columns]"
      ]
     },
     "execution_count": 203,
     "metadata": {},
     "output_type": "execute_result"
    }
   ],
   "source": [
    "X_df"
   ]
  },
  {
   "cell_type": "code",
   "execution_count": 204,
   "metadata": {},
   "outputs": [
    {
     "name": "stdout",
     "output_type": "stream",
     "text": [
      "trainer:  with rmse | mean: 482.47477, std: 5.18635 | all: [483.73821008 477.33416794 491.64377973 477.77988549 481.87781324]\n"
     ]
    }
   ],
   "source": [
    "# X_df = _X_df[[\"rent_approval_date\", \"town\", \"flat_type\", \"flat_model\", \"floor_area_sqm\", \"subzone\", \"region\"]]\n",
    "# xgboost.cross_validate()\n",
    "X_df = _X_df.drop(columns=[\n",
    "    # 'planned_mrt_distance', \n",
    "    # 'nearest_mrt_distance', \n",
    "    # 'num_shopping_mall_500m', \n",
    "    # 'nearest_shopping_mall_dist'\n",
    "])\n",
    "y_df = _y_df\n",
    "model_selection(xgboost)"
   ]
  },
  {
   "cell_type": "code",
   "execution_count": 208,
   "metadata": {},
   "outputs": [
    {
     "name": "stdout",
     "output_type": "stream",
     "text": [
      "trainer:  with rmse | mean: 482.47477, std: 5.18635 | all: [483.73821011 477.33416794 491.64377973 477.77988549 481.87781324]\n"
     ]
    }
   ],
   "source": [
    "# X_df = _X_df[[\"rent_approval_date\", \"town\", \"flat_type\", \"flat_model\", \"floor_area_sqm\", \"subzone\", \"region\"]]\n",
    "# xgboost.cross_validate()\n",
    "X_df = _X_df.drop(columns=[\n",
    "    # 'planned_mrt_distance', \n",
    "    # 'nearest_mrt_distance', \n",
    "    # 'num_shopping_mall_500m', \n",
    "    # 'nearest_shopping_mall_dist'\n",
    "    # 'nearest_school_dist',\n",
    "    # 'num_school_500m'\n",
    "])\n",
    "y_df = _y_df\n",
    "\n",
    "# XGBoost\n",
    "xgboost_model = XGBRegressor(learning_rate=0.05,\n",
    "                       n_estimators=300,\n",
    "                       max_depth=4,\n",
    "                       min_child_weight=1,\n",
    "                       subsample=0.7,\n",
    "                       gamma=0.6,\n",
    "                       colsample_bytree=0.7,\n",
    "                       objective='reg:squarederror',\n",
    "                       nthread=-1,\n",
    "                       scale_pos_weight=1,\n",
    "                       seed=27,\n",
    "                       reg_alpha=0.00005,\n",
    "                       random_state=42)\n",
    "\n",
    "xgboost = Trainer(xgboost_model, X=X_df.values)\n",
    "model_selection(xgboost)"
   ]
  },
  {
   "cell_type": "code",
   "execution_count": 210,
   "metadata": {},
   "outputs": [
    {
     "data": {
      "text/plain": [
       "array([483.73821011, 477.33416794, 491.64377973, 477.77988549,\n",
       "       481.87781324])"
      ]
     },
     "execution_count": 210,
     "metadata": {},
     "output_type": "execute_result"
    }
   ],
   "source": [
    "# X_df = _X_df\n",
    "xgboost.cross_validate()"
   ]
  },
  {
   "cell_type": "code",
   "execution_count": 211,
   "metadata": {},
   "outputs": [
    {
     "data": {
      "text/plain": [
       "471.4222076126094"
      ]
     },
     "execution_count": 211,
     "metadata": {},
     "output_type": "execute_result"
    }
   ],
   "source": [
    "xgboost.rmse_on_train()"
   ]
  },
  {
   "cell_type": "code",
   "execution_count": 214,
   "metadata": {},
   "outputs": [],
   "source": [
    "prd = xgboost.predict(test_df.drop(columns=['planned_mrt_opening_year']))"
   ]
  },
  {
   "cell_type": "code",
   "execution_count": 215,
   "metadata": {},
   "outputs": [],
   "source": [
    "pd.DataFrame({\n",
    "    \"Id\": [i for i in range(len(prd))],\n",
    "    \"Predicted\": np.round(prd, 0)\n",
    "}).to_csv(\"./preprocessed/submission.csv\", index=False)"
   ]
  },
  {
   "cell_type": "code",
   "execution_count": 30,
   "metadata": {},
   "outputs": [],
   "source": [
    "# Random Forest\n",
    "rf_model = RandomForestRegressor(\n",
    "                        n_estimators=100,\n",
    "                        max_depth=8, # 7 underfitting, 9~10 overfitting\n",
    "                        min_samples_split=5,\n",
    "                        min_samples_leaf=5,\n",
    "                        max_features=4,\n",
    "                        criterion=\"squared_error\",\n",
    "                        # oob_score=True,\n",
    "                        random_state=42,\n",
    "                        n_jobs=4\n",
    "                        )\n",
    "rf = Trainer(rf_model)"
   ]
  },
  {
   "cell_type": "code",
   "execution_count": 31,
   "metadata": {},
   "outputs": [
    {
     "name": "stderr",
     "output_type": "stream",
     "text": [
      "/Users/Jadeeeey/opt/anaconda3/envs/nus/lib/python3.11/site-packages/sklearn/base.py:1152: DataConversionWarning: A column-vector y was passed when a 1d array was expected. Please change the shape of y to (n_samples,), for example using ravel().\n",
      "  return fit_method(estimator, *args, **kwargs)\n",
      "/Users/Jadeeeey/opt/anaconda3/envs/nus/lib/python3.11/site-packages/sklearn/base.py:1152: DataConversionWarning: A column-vector y was passed when a 1d array was expected. Please change the shape of y to (n_samples,), for example using ravel().\n",
      "  return fit_method(estimator, *args, **kwargs)\n",
      "/Users/Jadeeeey/opt/anaconda3/envs/nus/lib/python3.11/site-packages/sklearn/base.py:1152: DataConversionWarning: A column-vector y was passed when a 1d array was expected. Please change the shape of y to (n_samples,), for example using ravel().\n",
      "  return fit_method(estimator, *args, **kwargs)\n",
      "/Users/Jadeeeey/opt/anaconda3/envs/nus/lib/python3.11/site-packages/sklearn/base.py:1152: DataConversionWarning: A column-vector y was passed when a 1d array was expected. Please change the shape of y to (n_samples,), for example using ravel().\n",
      "  return fit_method(estimator, *args, **kwargs)\n",
      "/Users/Jadeeeey/opt/anaconda3/envs/nus/lib/python3.11/site-packages/sklearn/base.py:1152: DataConversionWarning: A column-vector y was passed when a 1d array was expected. Please change the shape of y to (n_samples,), for example using ravel().\n",
      "  return fit_method(estimator, *args, **kwargs)\n"
     ]
    },
    {
     "name": "stdout",
     "output_type": "stream",
     "text": [
      "trainer:  with rmse | mean: 493.97232, std: 5.06886 | all: [495.67128597 489.43610487 502.65337451 488.54372229 493.55712967]\n"
     ]
    }
   ],
   "source": [
    "model_selection(rf)"
   ]
  },
  {
   "cell_type": "code",
   "execution_count": 32,
   "metadata": {},
   "outputs": [
    {
     "name": "stderr",
     "output_type": "stream",
     "text": [
      "/Users/Jadeeeey/opt/anaconda3/envs/nus/lib/python3.11/site-packages/sklearn/base.py:1152: DataConversionWarning: A column-vector y was passed when a 1d array was expected. Please change the shape of y to (n_samples,), for example using ravel().\n",
      "  return fit_method(estimator, *args, **kwargs)\n"
     ]
    },
    {
     "data": {
      "text/plain": [
       "485.22555742392336"
      ]
     },
     "execution_count": 32,
     "metadata": {},
     "output_type": "execute_result"
    }
   ],
   "source": [
    "rf.rmse_on_train()"
   ]
  },
  {
   "cell_type": "code",
   "execution_count": 72,
   "metadata": {},
   "outputs": [],
   "source": [
    "# Lasso\n",
    "lasso_model = make_pipeline(RobustScaler(), Lasso(alpha =0.0005, random_state=1))\n",
    "lasso = Trainer(lasso_model)"
   ]
  },
  {
   "cell_type": "code",
   "execution_count": 73,
   "metadata": {},
   "outputs": [
    {
     "name": "stderr",
     "output_type": "stream",
     "text": [
      "/Users/Jadeeeey/opt/anaconda3/envs/nus/lib/python3.11/site-packages/sklearn/linear_model/_coordinate_descent.py:628: ConvergenceWarning: Objective did not converge. You might want to increase the number of iterations, check the scale of the features or consider increasing regularisation. Duality gap: 7.861e+09, tolerance: 3.067e+06\n",
      "  model = cd_fast.enet_coordinate_descent(\n"
     ]
    },
    {
     "data": {
      "text/plain": [
       "513.2450414065169"
      ]
     },
     "execution_count": 73,
     "metadata": {},
     "output_type": "execute_result"
    }
   ],
   "source": [
    "lasso.rmse_on_train()"
   ]
  },
  {
   "cell_type": "code",
   "execution_count": 15,
   "metadata": {},
   "outputs": [],
   "source": [
    "# Support Vector Regressor\n",
    "svr_model = make_pipeline(RobustScaler(), SVR(C= 20, epsilon= 0.008, gamma=0.0003))\n",
    "svr = Trainer(svr_model)"
   ]
  },
  {
   "cell_type": "code",
   "execution_count": 16,
   "metadata": {},
   "outputs": [
    {
     "name": "stderr",
     "output_type": "stream",
     "text": [
      "/Users/Jadeeeey/opt/anaconda3/envs/nus/lib/python3.11/site-packages/sklearn/utils/validation.py:1183: DataConversionWarning: A column-vector y was passed when a 1d array was expected. Please change the shape of y to (n_samples, ), for example using ravel().\n",
      "  y = column_or_1d(y, warn=True)\n",
      "/Users/Jadeeeey/opt/anaconda3/envs/nus/lib/python3.11/site-packages/sklearn/utils/validation.py:1183: DataConversionWarning: A column-vector y was passed when a 1d array was expected. Please change the shape of y to (n_samples, ), for example using ravel().\n",
      "  y = column_or_1d(y, warn=True)\n",
      "/Users/Jadeeeey/opt/anaconda3/envs/nus/lib/python3.11/site-packages/sklearn/utils/validation.py:1183: DataConversionWarning: A column-vector y was passed when a 1d array was expected. Please change the shape of y to (n_samples, ), for example using ravel().\n",
      "  y = column_or_1d(y, warn=True)\n",
      "/Users/Jadeeeey/opt/anaconda3/envs/nus/lib/python3.11/site-packages/sklearn/utils/validation.py:1183: DataConversionWarning: A column-vector y was passed when a 1d array was expected. Please change the shape of y to (n_samples, ), for example using ravel().\n",
      "  y = column_or_1d(y, warn=True)\n",
      "/Users/Jadeeeey/opt/anaconda3/envs/nus/lib/python3.11/site-packages/sklearn/utils/validation.py:1183: DataConversionWarning: A column-vector y was passed when a 1d array was expected. Please change the shape of y to (n_samples, ), for example using ravel().\n",
      "  y = column_or_1d(y, warn=True)\n"
     ]
    },
    {
     "name": "stdout",
     "output_type": "stream",
     "text": [
      "trainer:  with rmse | mean: 603.18412, std: 3.81415 | all: [602.39420835 601.02505091 608.10423393 597.65416751 606.74293299]\n"
     ]
    }
   ],
   "source": [
    "model_selection(svr)"
   ]
  },
  {
   "cell_type": "code",
   "execution_count": null,
   "metadata": {},
   "outputs": [],
   "source": []
  }
 ],
 "metadata": {
  "kernelspec": {
   "display_name": "nus",
   "language": "python",
   "name": "python3"
  },
  "language_info": {
   "codemirror_mode": {
    "name": "ipython",
    "version": 3
   },
   "file_extension": ".py",
   "mimetype": "text/x-python",
   "name": "python",
   "nbconvert_exporter": "python",
   "pygments_lexer": "ipython3",
   "version": "3.11.4"
  },
  "orig_nbformat": 4
 },
 "nbformat": 4,
 "nbformat_minor": 2
}
