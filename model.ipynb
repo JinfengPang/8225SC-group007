{
 "cells": [
  {
   "cell_type": "markdown",
   "metadata": {},
   "source": [
    "## Model\n",
    "1. data preparation\n",
    "2. model selection\n",
    "3. test"
   ]
  },
  {
   "cell_type": "code",
   "execution_count": 18,
   "metadata": {},
   "outputs": [],
   "source": [
    "import pandas as pd\n",
    "import numpy as np"
   ]
  },
  {
   "cell_type": "markdown",
   "metadata": {},
   "source": [
    "### Settings"
   ]
  },
  {
   "cell_type": "code",
   "execution_count": 52,
   "metadata": {},
   "outputs": [],
   "source": [
    "TRAIN_DATA_PATH = \"./preprocessed/train.csv\" # TODO ===> Feature Engineering Result\n",
    "Y_LABEL_COL_NAME = \"monthly_rent\""
   ]
  },
  {
   "cell_type": "markdown",
   "metadata": {},
   "source": [
    "### Get Training Data"
   ]
  },
  {
   "cell_type": "code",
   "execution_count": 20,
   "metadata": {},
   "outputs": [],
   "source": [
    "def get_X_y_df(data, y_column_name=Y_LABEL_COL_NAME):\n",
    "    feature_names = data.columns.to_list()\n",
    "    feature_names.remove(y_column_name)\n",
    "    X = data.loc[:, feature_names]\n",
    "    y = data.loc[:, [y_column_name]]\n",
    "    return X, y\n"
   ]
  },
  {
   "cell_type": "code",
   "execution_count": 44,
   "metadata": {},
   "outputs": [],
   "source": [
    "df_list = []\n",
    "for data_path in [f\"./preprocessed/train_{i}.csv\" for i in range(1, 4)]:\n",
    "    df_list.append(pd.read_csv(data_path))\n",
    "\n",
    "df = pd.DataFrame({\"index\": [i for i in range(0, 60000)]})\n",
    "for _df in df_list:\n",
    "    df = df.merge(_df, on='index')"
   ]
  },
  {
   "cell_type": "code",
   "execution_count": 50,
   "metadata": {},
   "outputs": [],
   "source": [
    "df = df.drop(columns=['index', 'flat_model_x']).rename(columns={\"flat_model_y\": \"flat_model\"})"
   ]
  },
  {
   "cell_type": "code",
   "execution_count": 53,
   "metadata": {},
   "outputs": [],
   "source": [
    "df.to_csv(TRAIN_DATA_PATH, index=False)"
   ]
  },
  {
   "cell_type": "code",
   "execution_count": 54,
   "metadata": {},
   "outputs": [],
   "source": [
    "\n",
    "data_df = pd.read_csv(TRAIN_DATA_PATH)\n",
    "\n",
    "X_df, y_df = get_X_y_df(data_df)"
   ]
  },
  {
   "cell_type": "code",
   "execution_count": 56,
   "metadata": {},
   "outputs": [
    {
     "data": {
      "text/html": [
       "<div>\n",
       "<style scoped>\n",
       "    .dataframe tbody tr th:only-of-type {\n",
       "        vertical-align: middle;\n",
       "    }\n",
       "\n",
       "    .dataframe tbody tr th {\n",
       "        vertical-align: top;\n",
       "    }\n",
       "\n",
       "    .dataframe thead th {\n",
       "        text-align: right;\n",
       "    }\n",
       "</style>\n",
       "<table border=\"1\" class=\"dataframe\">\n",
       "  <thead>\n",
       "    <tr style=\"text-align: right;\">\n",
       "      <th></th>\n",
       "      <th>rent_approval_date</th>\n",
       "      <th>town</th>\n",
       "      <th>block</th>\n",
       "      <th>flat_type</th>\n",
       "      <th>flat_model</th>\n",
       "      <th>floor_area_sqm</th>\n",
       "      <th>lease_commence_date</th>\n",
       "      <th>latitude</th>\n",
       "      <th>longitude</th>\n",
       "      <th>subzone</th>\n",
       "      <th>region</th>\n",
       "    </tr>\n",
       "  </thead>\n",
       "  <tbody>\n",
       "    <tr>\n",
       "      <th>0</th>\n",
       "      <td>8</td>\n",
       "      <td>2595.146199</td>\n",
       "      <td>257</td>\n",
       "      <td>3</td>\n",
       "      <td>10</td>\n",
       "      <td>67.0</td>\n",
       "      <td>17</td>\n",
       "      <td>1.344518</td>\n",
       "      <td>103.738630</td>\n",
       "      <td>149</td>\n",
       "      <td>4</td>\n",
       "    </tr>\n",
       "    <tr>\n",
       "      <th>1</th>\n",
       "      <td>16</td>\n",
       "      <td>2438.227223</td>\n",
       "      <td>119</td>\n",
       "      <td>4</td>\n",
       "      <td>10</td>\n",
       "      <td>92.0</td>\n",
       "      <td>12</td>\n",
       "      <td>1.330186</td>\n",
       "      <td>103.938717</td>\n",
       "      <td>8</td>\n",
       "      <td>1</td>\n",
       "    </tr>\n",
       "    <tr>\n",
       "      <th>2</th>\n",
       "      <td>21</td>\n",
       "      <td>2516.680515</td>\n",
       "      <td>157</td>\n",
       "      <td>3</td>\n",
       "      <td>5</td>\n",
       "      <td>67.0</td>\n",
       "      <td>5</td>\n",
       "      <td>1.332242</td>\n",
       "      <td>103.845643</td>\n",
       "      <td>128</td>\n",
       "      <td>0</td>\n",
       "    </tr>\n",
       "    <tr>\n",
       "      <th>3</th>\n",
       "      <td>7</td>\n",
       "      <td>2686.857477</td>\n",
       "      <td>250</td>\n",
       "      <td>6</td>\n",
       "      <td>3</td>\n",
       "      <td>149.0</td>\n",
       "      <td>27</td>\n",
       "      <td>1.370239</td>\n",
       "      <td>103.962894</td>\n",
       "      <td>91</td>\n",
       "      <td>1</td>\n",
       "    </tr>\n",
       "    <tr>\n",
       "      <th>4</th>\n",
       "      <td>22</td>\n",
       "      <td>2665.537634</td>\n",
       "      <td>34</td>\n",
       "      <td>3</td>\n",
       "      <td>5</td>\n",
       "      <td>68.0</td>\n",
       "      <td>6</td>\n",
       "      <td>1.320502</td>\n",
       "      <td>103.863341</td>\n",
       "      <td>12</td>\n",
       "      <td>0</td>\n",
       "    </tr>\n",
       "    <tr>\n",
       "      <th>...</th>\n",
       "      <td>...</td>\n",
       "      <td>...</td>\n",
       "      <td>...</td>\n",
       "      <td>...</td>\n",
       "      <td>...</td>\n",
       "      <td>...</td>\n",
       "      <td>...</td>\n",
       "      <td>...</td>\n",
       "      <td>...</td>\n",
       "      <td>...</td>\n",
       "      <td>...</td>\n",
       "    </tr>\n",
       "    <tr>\n",
       "      <th>59995</th>\n",
       "      <td>8</td>\n",
       "      <td>2416.700057</td>\n",
       "      <td>441</td>\n",
       "      <td>3</td>\n",
       "      <td>10</td>\n",
       "      <td>67.0</td>\n",
       "      <td>13</td>\n",
       "      <td>1.366050</td>\n",
       "      <td>103.854168</td>\n",
       "      <td>31</td>\n",
       "      <td>3</td>\n",
       "    </tr>\n",
       "    <tr>\n",
       "      <th>59996</th>\n",
       "      <td>27</td>\n",
       "      <td>2904.113924</td>\n",
       "      <td>95</td>\n",
       "      <td>4</td>\n",
       "      <td>7</td>\n",
       "      <td>83.0</td>\n",
       "      <td>53</td>\n",
       "      <td>1.286493</td>\n",
       "      <td>103.821434</td>\n",
       "      <td>52</td>\n",
       "      <td>0</td>\n",
       "    </tr>\n",
       "    <tr>\n",
       "      <th>59997</th>\n",
       "      <td>17</td>\n",
       "      <td>2638.489123</td>\n",
       "      <td>862</td>\n",
       "      <td>5</td>\n",
       "      <td>5</td>\n",
       "      <td>122.0</td>\n",
       "      <td>22</td>\n",
       "      <td>1.355064</td>\n",
       "      <td>103.936507</td>\n",
       "      <td>118</td>\n",
       "      <td>1</td>\n",
       "    </tr>\n",
       "    <tr>\n",
       "      <th>59998</th>\n",
       "      <td>24</td>\n",
       "      <td>2438.227223</td>\n",
       "      <td>67</td>\n",
       "      <td>5</td>\n",
       "      <td>15</td>\n",
       "      <td>123.0</td>\n",
       "      <td>11</td>\n",
       "      <td>1.318974</td>\n",
       "      <td>103.944076</td>\n",
       "      <td>10</td>\n",
       "      <td>1</td>\n",
       "    </tr>\n",
       "    <tr>\n",
       "      <th>59999</th>\n",
       "      <td>25</td>\n",
       "      <td>2416.700057</td>\n",
       "      <td>445</td>\n",
       "      <td>3</td>\n",
       "      <td>10</td>\n",
       "      <td>67.0</td>\n",
       "      <td>13</td>\n",
       "      <td>1.366980</td>\n",
       "      <td>103.855718</td>\n",
       "      <td>31</td>\n",
       "      <td>3</td>\n",
       "    </tr>\n",
       "  </tbody>\n",
       "</table>\n",
       "<p>60000 rows × 11 columns</p>\n",
       "</div>"
      ],
      "text/plain": [
       "       rent_approval_date         town  block  flat_type  flat_model  \\\n",
       "0                       8  2595.146199    257          3          10   \n",
       "1                      16  2438.227223    119          4          10   \n",
       "2                      21  2516.680515    157          3           5   \n",
       "3                       7  2686.857477    250          6           3   \n",
       "4                      22  2665.537634     34          3           5   \n",
       "...                   ...          ...    ...        ...         ...   \n",
       "59995                   8  2416.700057    441          3          10   \n",
       "59996                  27  2904.113924     95          4           7   \n",
       "59997                  17  2638.489123    862          5           5   \n",
       "59998                  24  2438.227223     67          5          15   \n",
       "59999                  25  2416.700057    445          3          10   \n",
       "\n",
       "       floor_area_sqm  lease_commence_date  latitude   longitude  subzone  \\\n",
       "0                67.0                   17  1.344518  103.738630      149   \n",
       "1                92.0                   12  1.330186  103.938717        8   \n",
       "2                67.0                    5  1.332242  103.845643      128   \n",
       "3               149.0                   27  1.370239  103.962894       91   \n",
       "4                68.0                    6  1.320502  103.863341       12   \n",
       "...               ...                  ...       ...         ...      ...   \n",
       "59995            67.0                   13  1.366050  103.854168       31   \n",
       "59996            83.0                   53  1.286493  103.821434       52   \n",
       "59997           122.0                   22  1.355064  103.936507      118   \n",
       "59998           123.0                   11  1.318974  103.944076       10   \n",
       "59999            67.0                   13  1.366980  103.855718       31   \n",
       "\n",
       "       region  \n",
       "0           4  \n",
       "1           1  \n",
       "2           0  \n",
       "3           1  \n",
       "4           0  \n",
       "...       ...  \n",
       "59995       3  \n",
       "59996       0  \n",
       "59997       1  \n",
       "59998       1  \n",
       "59999       3  \n",
       "\n",
       "[60000 rows x 11 columns]"
      ]
     },
     "execution_count": 56,
     "metadata": {},
     "output_type": "execute_result"
    }
   ],
   "source": [
    "X_df"
   ]
  },
  {
   "cell_type": "markdown",
   "metadata": {},
   "source": [
    "### Trainer、Model Selection、Cross Validation"
   ]
  },
  {
   "cell_type": "code",
   "execution_count": 57,
   "metadata": {},
   "outputs": [],
   "source": [
    "from sklearn.model_selection import cross_val_score, KFold"
   ]
  },
  {
   "cell_type": "code",
   "execution_count": 58,
   "metadata": {},
   "outputs": [],
   "source": [
    "class Trainer:\n",
    "    def __init__(self, model, X=X_df.values, y=y_df.values, k_folds=5):\n",
    "        \"\"\"\n",
    "        X : array-like of shape (n_samples, n_features)\n",
    "        y : array-like of shape (n_samples,) or (n_samples, n_outputs)\n",
    "        \"\"\"\n",
    "        self.X_train = X\n",
    "        self.y_train = y\n",
    "        self.k_fold = k_folds\n",
    "        self.model = model\n",
    "        self.trained = None\n",
    "\n",
    "    def cross_validate(self, metric=\"rmse\", k_fold=None):\n",
    "        \"\"\"Root Mean Square Error of Cross Validation\"\"\"\n",
    "        if metric == \"rmse\":\n",
    "            kf = KFold(self.k_fold if k_fold is None else k_fold, \n",
    "                       random_state=42, \n",
    "                       shuffle=True).get_n_splits(self.X_train)\n",
    "            # TODO other metrics?\n",
    "            rmse = np.sqrt(-cross_val_score(self.model, self.X_train, self.y_train, scoring=\"neg_mean_squared_error\", cv = kf))\n",
    "            return (rmse)\n",
    "        else:\n",
    "            raise NotImplementedError\n",
    "\n",
    "    def train(self):\n",
    "        self.trained = self.model.fit(self.X_train, self.y_train)\n",
    "        return self.trained\n",
    "    \n",
    "    def predict(self, X_test):\n",
    "        return self.trained.predict(X_test)"
   ]
  },
  {
   "cell_type": "markdown",
   "metadata": {},
   "source": [
    "### Models"
   ]
  },
  {
   "cell_type": "code",
   "execution_count": 59,
   "metadata": {},
   "outputs": [],
   "source": [
    "from sklearn.ensemble import RandomForestRegressor, GradientBoostingRegressor\n",
    "from sklearn.linear_model import Lasso\n",
    "from sklearn.kernel_ridge import KernelRidge\n",
    "from sklearn.pipeline import make_pipeline\n",
    "from sklearn.preprocessing import RobustScaler\n",
    "from sklearn.svm import SVR\n",
    "from xgboost import XGBRegressor"
   ]
  },
  {
   "cell_type": "code",
   "execution_count": 62,
   "metadata": {},
   "outputs": [],
   "source": [
    "def model_selection(trainer: Trainer, trainer_name=\"\", k_fold=None, metric=\"rmse\"):\n",
    "    cv = trainer.cross_validate(k_fold, metric=metric)\n",
    "    mean_cv = cv.mean()\n",
    "    std_cv = cv.std()\n",
    "    print(f\"trainer: {trainer_name} with {metric} | mean: {round(mean_cv, 5)}, std: {round(std_cv, 5)}\")\n",
    "\n",
    "# TODO: parameter grid search"
   ]
  },
  {
   "cell_type": "code",
   "execution_count": 63,
   "metadata": {},
   "outputs": [],
   "source": [
    "# Gradient Boosting\n",
    "gboost_model = GradientBoostingRegressor(n_estimators=6000,\n",
    "                                learning_rate=0.01,\n",
    "                                max_depth=4,\n",
    "                                max_features='sqrt',\n",
    "                                min_samples_leaf=15,\n",
    "                                min_samples_split=10,\n",
    "                                loss='huber',\n",
    "                                random_state=42)\n",
    "gboost = Trainer(gboost_model)"
   ]
  },
  {
   "cell_type": "code",
   "execution_count": 69,
   "metadata": {},
   "outputs": [
    {
     "name": "stderr",
     "output_type": "stream",
     "text": [
      "/Users/Jadeeeey/opt/anaconda3/envs/nus/lib/python3.11/site-packages/sklearn/ensemble/_gb.py:424: DataConversionWarning: A column-vector y was passed when a 1d array was expected. Please change the shape of y to (n_samples, ), for example using ravel().\n",
      "  y = column_or_1d(y, warn=True)\n"
     ]
    }
   ],
   "source": [
    "gboost.cross_validate()"
   ]
  },
  {
   "cell_type": "code",
   "execution_count": 64,
   "metadata": {},
   "outputs": [],
   "source": [
    "# XGBoost\n",
    "xgboost_model = XGBRegressor(learning_rate=0.01,\n",
    "                       n_estimators=6000,\n",
    "                       max_depth=4,\n",
    "                       min_child_weight=0,\n",
    "                       gamma=0.6,\n",
    "                       subsample=0.7,\n",
    "                       colsample_bytree=0.7,\n",
    "                       objective='reg:linear',\n",
    "                       nthread=-1,\n",
    "                       scale_pos_weight=1,\n",
    "                       seed=27,\n",
    "                       reg_alpha=0.00006,\n",
    "                       random_state=42)\n",
    "xgboost = Trainer(xgboost_model)"
   ]
  },
  {
   "cell_type": "code",
   "execution_count": 65,
   "metadata": {},
   "outputs": [],
   "source": [
    "# Random Forest\n",
    "rf_model = RandomForestRegressor(n_estimators=1200,\n",
    "                          max_depth=15,\n",
    "                          min_samples_split=5,\n",
    "                          min_samples_leaf=5,\n",
    "                          max_features=None,\n",
    "                          oob_score=True,\n",
    "                          random_state=42)\n",
    "rf = Trainer(rf_model)"
   ]
  },
  {
   "cell_type": "code",
   "execution_count": 66,
   "metadata": {},
   "outputs": [],
   "source": [
    "# Kernel Ridge\n",
    "krr_model = KernelRidge(alpha=0.6, kernel='polynomial', degree=2, coef0=2.5)\n",
    "krr = Trainer(krr_model)"
   ]
  },
  {
   "cell_type": "code",
   "execution_count": 67,
   "metadata": {},
   "outputs": [],
   "source": [
    "# Lasso\n",
    "lasso_model = make_pipeline(RobustScaler(), Lasso(alpha =0.0005, random_state=1))\n",
    "lasso = Trainer(lasso_model)"
   ]
  },
  {
   "cell_type": "code",
   "execution_count": 68,
   "metadata": {},
   "outputs": [],
   "source": [
    "# Support Vector Regressor\n",
    "svr_model = make_pipeline(RobustScaler(), SVR(C= 20, epsilon= 0.008, gamma=0.0003))\n",
    "svr = Trainer(svr_model)"
   ]
  },
  {
   "cell_type": "code",
   "execution_count": null,
   "metadata": {},
   "outputs": [],
   "source": []
  },
  {
   "cell_type": "code",
   "execution_count": null,
   "metadata": {},
   "outputs": [],
   "source": []
  }
 ],
 "metadata": {
  "kernelspec": {
   "display_name": "nus",
   "language": "python",
   "name": "python3"
  },
  "language_info": {
   "codemirror_mode": {
    "name": "ipython",
    "version": 3
   },
   "file_extension": ".py",
   "mimetype": "text/x-python",
   "name": "python",
   "nbconvert_exporter": "python",
   "pygments_lexer": "ipython3",
   "version": "3.11.4"
  },
  "orig_nbformat": 4
 },
 "nbformat": 4,
 "nbformat_minor": 2
}
