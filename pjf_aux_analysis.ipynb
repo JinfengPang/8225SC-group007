{
 "cells": [
  {
   "cell_type": "markdown",
   "metadata": {},
   "source": [
    "Primary School Analysis"
   ]
  },
  {
   "cell_type": "code",
   "execution_count": 9,
   "metadata": {},
   "outputs": [
    {
     "name": "stdout",
     "output_type": "stream",
     "text": [
      "Mean Squared Error: 389085.1673830981\n"
     ]
    }
   ],
   "source": [
    "import pandas as pd\n",
    "import numpy as np\n",
    "from xgboost import XGBRegressor\n",
    "from sklearn.model_selection import train_test_split\n",
    "from sklearn.metrics import mean_squared_error\n",
    "from scipy.spatial.distance import cdist\n",
    "\n",
    "\n",
    "# Load datasets\n",
    "df = pd.read_csv(\"./preprocessed/train.csv\")\n",
    "df.head()\n",
    "\n",
    "# test_df = pd.read_csv(\"./Dataset/test.csv\")\n",
    "schools_df = pd.read_csv(\"./Dataset/auxiliary-data/sg-primary-schools.csv\")\n",
    "\n",
    "# Calculate distances between each rental property and all primary schools\n",
    "df_values = df[['latitude', 'longitude']].values\n",
    "schools_values = schools_df[['latitude', 'longitude']].values\n",
    "distances = cdist(df_values, schools_values, metric='euclidean')\n",
    "\n",
    "# Find the index of the nearest primary school for each rental property\n",
    "nearest_school_indices = np.argmin(distances, axis=1)\n",
    "\n",
    "# Add new features to rental_data\n",
    "df['nearest_school_distance'] = np.min(distances, axis=1)\n",
    "df['nearest_school_name'] = schools_df['name'].iloc[nearest_school_indices].values\n",
    "\n",
    "# Define features and target variable\n",
    "features = ['nearest_school_distance', 'subzone', 'region', 'town', 'street_name','block','flat_type','flat_model','floor_area_sqm']\n",
    "X = df[features]\n",
    "y = df['monthly_rent']\n",
    "\n",
    "# Split data into training and testing sets\n",
    "X_train, X_test, y_train, y_test = train_test_split(X, y, test_size=0.2, random_state=42)\n",
    "\n",
    "xgboost_model = XGBRegressor(\n",
    "    learning_rate=0.1,\n",
    "    n_estimators=100,\n",
    "    max_depth=5,\n",
    "    min_child_weight=1,\n",
    "    gamma=0.6,\n",
    "    subsample=0.6,\n",
    "    colsample_bytree=0.7,\n",
    "    objective='reg:squarederror',\n",
    "    nthread=-1,\n",
    "    scale_pos_weight=1,\n",
    "    seed=27,\n",
    "    reg_alpha=0.00006,\n",
    "    random_state=42\n",
    ")\n",
    "\n",
    "\n",
    "xgboost_model.fit(X_train, y_train)\n",
    "predictions = xgboost_model.predict(X_test)\n",
    "mse = mean_squared_error(y_test, predictions)\n",
    "print(f'Mean Squared Error: {mse}')\n"
   ]
  }
 ],
 "metadata": {
  "kernelspec": {
   "display_name": "Python 3",
   "language": "python",
   "name": "python3"
  },
  "language_info": {
   "codemirror_mode": {
    "name": "ipython",
    "version": 3
   },
   "file_extension": ".py",
   "mimetype": "text/x-python",
   "name": "python",
   "nbconvert_exporter": "python",
   "pygments_lexer": "ipython3",
   "version": "3.11.2"
  }
 },
 "nbformat": 4,
 "nbformat_minor": 2
}
