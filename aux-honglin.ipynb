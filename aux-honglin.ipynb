{
 "cells": [
  {
   "cell_type": "code",
   "execution_count": 2,
   "metadata": {},
   "outputs": [],
   "source": [
    "import pandas as pd\n",
    "import numpy as np"
   ]
  },
  {
   "cell_type": "code",
   "execution_count": 3,
   "metadata": {},
   "outputs": [],
   "source": [
    "df = pd.read_csv(\"./Dataset/auxiliary-data/sg-shopping-malls.csv\")"
   ]
  },
  {
   "cell_type": "code",
   "execution_count": 4,
   "metadata": {},
   "outputs": [
    {
     "data": {
      "text/html": [
       "<div>\n",
       "<style scoped>\n",
       "    .dataframe tbody tr th:only-of-type {\n",
       "        vertical-align: middle;\n",
       "    }\n",
       "\n",
       "    .dataframe tbody tr th {\n",
       "        vertical-align: top;\n",
       "    }\n",
       "\n",
       "    .dataframe thead th {\n",
       "        text-align: right;\n",
       "    }\n",
       "</style>\n",
       "<table border=\"1\" class=\"dataframe\">\n",
       "  <thead>\n",
       "    <tr style=\"text-align: right;\">\n",
       "      <th></th>\n",
       "      <th>name</th>\n",
       "      <th>latitude</th>\n",
       "      <th>longitude</th>\n",
       "    </tr>\n",
       "  </thead>\n",
       "  <tbody>\n",
       "    <tr>\n",
       "      <th>0</th>\n",
       "      <td>100 AM</td>\n",
       "      <td>1.274588</td>\n",
       "      <td>103.843471</td>\n",
       "    </tr>\n",
       "    <tr>\n",
       "      <th>1</th>\n",
       "      <td>313@Somerset</td>\n",
       "      <td>1.301385</td>\n",
       "      <td>103.837684</td>\n",
       "    </tr>\n",
       "    <tr>\n",
       "      <th>2</th>\n",
       "      <td>Aperia</td>\n",
       "      <td>1.310867</td>\n",
       "      <td>103.863930</td>\n",
       "    </tr>\n",
       "    <tr>\n",
       "      <th>3</th>\n",
       "      <td>Balestier Hill Shopping Centre</td>\n",
       "      <td>1.325596</td>\n",
       "      <td>103.842572</td>\n",
       "    </tr>\n",
       "    <tr>\n",
       "      <th>4</th>\n",
       "      <td>Bugis Cube</td>\n",
       "      <td>1.298141</td>\n",
       "      <td>103.855635</td>\n",
       "    </tr>\n",
       "  </tbody>\n",
       "</table>\n",
       "</div>"
      ],
      "text/plain": [
       "                             name  latitude   longitude\n",
       "0                          100 AM  1.274588  103.843471\n",
       "1                    313@Somerset  1.301385  103.837684\n",
       "2                          Aperia  1.310867  103.863930\n",
       "3  Balestier Hill Shopping Centre  1.325596  103.842572\n",
       "4                      Bugis Cube  1.298141  103.855635"
      ]
     },
     "execution_count": 4,
     "metadata": {},
     "output_type": "execute_result"
    }
   ],
   "source": [
    "df.head()"
   ]
  },
  {
   "cell_type": "code",
   "execution_count": 5,
   "metadata": {},
   "outputs": [],
   "source": [
    "def haversine_distance(lon1, lat1, lon2, lat2):\n",
    "    lon1, lat1, lon2, lat2 = map(np.radians, [lon1, lat1, lon2, lat2])\n",
    "\n",
    "    dlon = lon2 - lon1\n",
    "    dlat = lat2 - lat1\n",
    "    a = np.sin(dlat/2.0)**2 + np.cos(lat1) * np.cos(lat2) * np.sin(dlon/2.0)**2\n",
    "    c = 2 * np.arctan2(np.sqrt(a), np.sqrt(1-a))\n",
    "\n",
    "    distance = 6371000 * c\n",
    "    return distance"
   ]
  },
  {
   "cell_type": "code",
   "execution_count": 6,
   "metadata": {},
   "outputs": [
    {
     "data": {
      "text/plain": [
       "412780.48807889415"
      ]
     },
     "execution_count": 6,
     "metadata": {},
     "output_type": "execute_result"
    }
   ],
   "source": [
    "school_df = df.copy()\n",
    "longi = 100\n",
    "lati = 1\n",
    "min(school_df.apply(lambda x: haversine_distance(x['longitude'], x['latitude'], longi, lati), axis=1))"
   ]
  },
  {
   "cell_type": "code",
   "execution_count": 7,
   "metadata": {},
   "outputs": [],
   "source": [
    "def calc_dist(school_df, longi, lati):\n",
    "    return school_df.apply(lambda x: haversine_distance(x['longitude'], x['latitude'], longi, lati), axis=1)"
   ]
  },
  {
   "cell_type": "code",
   "execution_count": 8,
   "metadata": {},
   "outputs": [],
   "source": [
    "def find_nearest_school(longi, lati, school_df):\n",
    "    dist = calc_dist(school_df, longi, lati)\n",
    "    return min(dist)\n",
    "\n",
    "def find_area_school(longi, lati, radius, school_df):\n",
    "    \"\"\"\n",
    "    @param radius: meter\n",
    "    \"\"\"\n",
    "    dist = calc_dist(school_df=school_df, lati=lati, longi=longi)\n",
    "    return sum(dist < radius)\n",
    "    "
   ]
  },
  {
   "cell_type": "code",
   "execution_count": 9,
   "metadata": {},
   "outputs": [],
   "source": [
    "dist = calc_dist(school_df, lati=lati, longi=longi)"
   ]
  },
  {
   "cell_type": "code",
   "execution_count": 21,
   "metadata": {},
   "outputs": [
    {
     "data": {
      "text/html": [
       "<div>\n",
       "<style scoped>\n",
       "    .dataframe tbody tr th:only-of-type {\n",
       "        vertical-align: middle;\n",
       "    }\n",
       "\n",
       "    .dataframe tbody tr th {\n",
       "        vertical-align: top;\n",
       "    }\n",
       "\n",
       "    .dataframe thead th {\n",
       "        text-align: right;\n",
       "    }\n",
       "</style>\n",
       "<table border=\"1\" class=\"dataframe\">\n",
       "  <thead>\n",
       "    <tr style=\"text-align: right;\">\n",
       "      <th></th>\n",
       "      <th>rent_approval_date</th>\n",
       "      <th>town</th>\n",
       "      <th>block</th>\n",
       "      <th>street_name</th>\n",
       "      <th>flat_type</th>\n",
       "      <th>flat_model</th>\n",
       "      <th>floor_area_sqm</th>\n",
       "      <th>furnished</th>\n",
       "      <th>lease_commence_date</th>\n",
       "      <th>latitude</th>\n",
       "      <th>longitude</th>\n",
       "      <th>elevation</th>\n",
       "      <th>subzone</th>\n",
       "      <th>planning_area</th>\n",
       "      <th>region</th>\n",
       "    </tr>\n",
       "  </thead>\n",
       "  <tbody>\n",
       "    <tr>\n",
       "      <th>0</th>\n",
       "      <td>2023-01</td>\n",
       "      <td>hougang</td>\n",
       "      <td>245</td>\n",
       "      <td>hougang street 22</td>\n",
       "      <td>5-room</td>\n",
       "      <td>improved</td>\n",
       "      <td>121.0</td>\n",
       "      <td>yes</td>\n",
       "      <td>1984</td>\n",
       "      <td>1.358411</td>\n",
       "      <td>103.891722</td>\n",
       "      <td>0.0</td>\n",
       "      <td>lorong ah soo</td>\n",
       "      <td>hougang</td>\n",
       "      <td>north-east region</td>\n",
       "    </tr>\n",
       "    <tr>\n",
       "      <th>1</th>\n",
       "      <td>2022-09</td>\n",
       "      <td>sembawang</td>\n",
       "      <td>316</td>\n",
       "      <td>sembawang vista</td>\n",
       "      <td>4-room</td>\n",
       "      <td>model a</td>\n",
       "      <td>100.0</td>\n",
       "      <td>yes</td>\n",
       "      <td>1999</td>\n",
       "      <td>1.446343</td>\n",
       "      <td>103.820817</td>\n",
       "      <td>0.0</td>\n",
       "      <td>sembawang central</td>\n",
       "      <td>sembawang</td>\n",
       "      <td>north region</td>\n",
       "    </tr>\n",
       "    <tr>\n",
       "      <th>2</th>\n",
       "      <td>2023-07</td>\n",
       "      <td>clementi</td>\n",
       "      <td>708</td>\n",
       "      <td>Clementi West Street 2</td>\n",
       "      <td>4-room</td>\n",
       "      <td>new generation</td>\n",
       "      <td>91.0</td>\n",
       "      <td>yes</td>\n",
       "      <td>1980</td>\n",
       "      <td>1.305719</td>\n",
       "      <td>103.762168</td>\n",
       "      <td>0.0</td>\n",
       "      <td>clementi west</td>\n",
       "      <td>clementi</td>\n",
       "      <td>west region</td>\n",
       "    </tr>\n",
       "    <tr>\n",
       "      <th>3</th>\n",
       "      <td>2021-08</td>\n",
       "      <td>jurong east</td>\n",
       "      <td>351</td>\n",
       "      <td>Jurong East Street 31</td>\n",
       "      <td>3 room</td>\n",
       "      <td>model a</td>\n",
       "      <td>74.0</td>\n",
       "      <td>yes</td>\n",
       "      <td>1986</td>\n",
       "      <td>1.344832</td>\n",
       "      <td>103.730778</td>\n",
       "      <td>0.0</td>\n",
       "      <td>yuhua west</td>\n",
       "      <td>jurong east</td>\n",
       "      <td>west region</td>\n",
       "    </tr>\n",
       "    <tr>\n",
       "      <th>4</th>\n",
       "      <td>2022-03</td>\n",
       "      <td>jurong east</td>\n",
       "      <td>305</td>\n",
       "      <td>jurong east street 32</td>\n",
       "      <td>5-room</td>\n",
       "      <td>improved</td>\n",
       "      <td>121.0</td>\n",
       "      <td>yes</td>\n",
       "      <td>1983</td>\n",
       "      <td>1.345437</td>\n",
       "      <td>103.735241</td>\n",
       "      <td>0.0</td>\n",
       "      <td>yuhua west</td>\n",
       "      <td>jurong east</td>\n",
       "      <td>west region</td>\n",
       "    </tr>\n",
       "  </tbody>\n",
       "</table>\n",
       "</div>"
      ],
      "text/plain": [
       "  rent_approval_date         town block             street_name flat_type  \\\n",
       "0            2023-01      hougang   245       hougang street 22    5-room   \n",
       "1            2022-09    sembawang   316         sembawang vista    4-room   \n",
       "2            2023-07     clementi   708  Clementi West Street 2    4-room   \n",
       "3            2021-08  jurong east   351   Jurong East Street 31    3 room   \n",
       "4            2022-03  jurong east   305   jurong east street 32    5-room   \n",
       "\n",
       "       flat_model  floor_area_sqm furnished  lease_commence_date  latitude  \\\n",
       "0        improved           121.0       yes                 1984  1.358411   \n",
       "1         model a           100.0       yes                 1999  1.446343   \n",
       "2  new generation            91.0       yes                 1980  1.305719   \n",
       "3         model a            74.0       yes                 1986  1.344832   \n",
       "4        improved           121.0       yes                 1983  1.345437   \n",
       "\n",
       "    longitude  elevation            subzone planning_area             region  \n",
       "0  103.891722        0.0      lorong ah soo       hougang  north-east region  \n",
       "1  103.820817        0.0  sembawang central     sembawang       north region  \n",
       "2  103.762168        0.0      clementi west      clementi        west region  \n",
       "3  103.730778        0.0         yuhua west   jurong east        west region  \n",
       "4  103.735241        0.0         yuhua west   jurong east        west region  "
      ]
     },
     "execution_count": 21,
     "metadata": {},
     "output_type": "execute_result"
    }
   ],
   "source": [
    "data_df = pd.read_csv(\"./Dataset/test.csv\")\n",
    "data_df.head()"
   ]
  },
  {
   "cell_type": "code",
   "execution_count": 11,
   "metadata": {},
   "outputs": [
    {
     "data": {
      "text/plain": [
       "0     1202.673513\n",
       "1     1114.338361\n",
       "2      468.296504\n",
       "3      402.358778\n",
       "4     1073.353709\n",
       "5      355.099430\n",
       "6      295.652538\n",
       "7     1088.946725\n",
       "8     1032.633071\n",
       "9      315.474728\n",
       "10     463.398250\n",
       "dtype: float64"
      ]
     },
     "execution_count": 11,
     "metadata": {},
     "output_type": "execute_result"
    }
   ],
   "source": [
    "data_df.loc[:100, :].apply(lambda x: find_nearest_school(x['longitude'], x['latitude'], school_df), axis=1)"
   ]
  },
  {
   "cell_type": "code",
   "execution_count": 22,
   "metadata": {},
   "outputs": [],
   "source": [
    "nearest_school_dist = data_df.apply(lambda x: find_nearest_school(x['longitude'], x['latitude'], school_df), axis=1)"
   ]
  },
  {
   "cell_type": "code",
   "execution_count": 17,
   "metadata": {},
   "outputs": [
    {
     "data": {
      "text/plain": [
       "47"
      ]
     },
     "execution_count": 17,
     "metadata": {},
     "output_type": "execute_result"
    }
   ],
   "source": [
    "sum(data_df.loc[:100, :].apply(lambda x: find_area_school(x['longitude'], x['latitude'], 500, school_df), axis=1))"
   ]
  },
  {
   "cell_type": "code",
   "execution_count": 23,
   "metadata": {},
   "outputs": [],
   "source": [
    "r500_school_dist = data_df.apply(lambda x: find_area_school(x['longitude'], x['latitude'], 500, school_df), axis=1)"
   ]
  },
  {
   "cell_type": "code",
   "execution_count": 57,
   "metadata": {},
   "outputs": [
    {
     "data": {
      "text/plain": [
       "array([1, 0, 1, ..., 1, 1, 0])"
      ]
     },
     "execution_count": 57,
     "metadata": {},
     "output_type": "execute_result"
    }
   ],
   "source": [
    "r500_school_dist.values"
   ]
  },
  {
   "cell_type": "code",
   "execution_count": 24,
   "metadata": {},
   "outputs": [],
   "source": [
    "pd.DataFrame({\n",
    "    \"index\": data_df.reset_index()['index'],\n",
    "    \"num_shopping_mall_500m\": r500_school_dist,\n",
    "    \"nearest_shopping_mall_dist\": round(nearest_school_dist, 2)\n",
    "}).to_csv(\"./preprocessed/test_7.csv\", index=False)"
   ]
  },
  {
   "cell_type": "code",
   "execution_count": 142,
   "metadata": {},
   "outputs": [],
   "source": [
    "import matplotlib.pyplot as plt"
   ]
  },
  {
   "cell_type": "markdown",
   "metadata": {},
   "source": []
  },
  {
   "cell_type": "code",
   "execution_count": 141,
   "metadata": {},
   "outputs": [
    {
     "data": {
      "image/png": "[encoded data removed]",
      "text/plain": [
       "<Figure size 640x480 with 1 Axes>"
      ]
     },
     "metadata": {},
     "output_type": "display_data"
    }
   ],
   "source": [
    "# 使用plt.hist获取直方图数据，但不实际绘制直方图\n",
    "\n",
    "hist_data, bin_edges, _ = plt.hist(nearest_school_dist, 30, edgecolor='k', alpha=0.7)\n",
    "# plt.clf()\n",
    "\n",
    "# 使用中点绘制频率多边形\n",
    "bin_centers = (bin_edges[:-1] + bin_edges[1:]) / 2\n",
    "plt.plot(bin_centers, hist_data, 'k', marker='.', linestyle='dotted')\n",
    "# plt.grid()\n",
    "plt.show()"
   ]
  },
  {
   "cell_type": "code",
   "execution_count": 145,
   "metadata": {},
   "outputs": [
    {
     "data": {
      "image/png": "[encoded data removed]",
      "text/plain": [
       "<Figure size 640x480 with 1 Axes>"
      ]
     },
     "metadata": {},
     "output_type": "display_data"
    }
   ],
   "source": [
    "# 使用plt.hist获取直方图数据，但不实际绘制直方图\n",
    "\n",
    "hist_data, bin_edges, _ = plt.hist(r500_school_dist, 5, edgecolor='k', alpha=0.7)\n",
    "# plt.clf()\n",
    "\n",
    "# 使用中点绘制频率多边形\n",
    "bin_centers = (bin_edges[:-1] + bin_edges[1:]) / 2\n",
    "plt.plot(bin_centers, hist_data, 'k', marker='.', linestyle='dotted')\n",
    "# plt.grid()\n",
    "plt.show()"
   ]
  },
  {
   "cell_type": "code",
   "execution_count": null,
   "metadata": {},
   "outputs": [],
   "source": []
  }
 ],
 "metadata": {
  "kernelspec": {
   "display_name": "nus",
   "language": "python",
   "name": "python3"
  },
  "language_info": {
   "codemirror_mode": {
    "name": "ipython",
    "version": 3
   },
   "file_extension": ".py",
   "mimetype": "text/x-python",
   "name": "python",
   "nbconvert_exporter": "python",
   "pygments_lexer": "ipython3",
   "version": "3.11.4"
  }
 },
 "nbformat": 4,
 "nbformat_minor": 2
}
